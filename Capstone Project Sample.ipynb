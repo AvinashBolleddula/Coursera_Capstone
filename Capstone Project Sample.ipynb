{
    "cells": [
        {
            "cell_type": "markdown",
            "metadata": {},
            "source": "# Coursera_Capstone\n## This Notebook Will Be Mainly Used For Couresra_Capstone Project (IBM PROFESSIONAL)"
        },
        {
            "cell_type": "markdown",
            "metadata": {},
            "source": "### IMPORT PANDAS,NUMPY,RESAMPLE (FOR DOWNSAMPLING)\n\n"
        },
        {
            "cell_type": "code",
            "execution_count": 8,
            "metadata": {
                "scrolled": true
            },
            "outputs": [
                {
                    "name": "stdout",
                    "output_type": "stream",
                    "text": "Hello Capstone Project Course!\n"
                }
            ],
            "source": "import pandas as pd\nimport numpy as np\nfrom sklearn.utils import resample\nfrom sklearn import preprocessing\nprint('Hello Capstone Project Course!')"
        },
        {
            "cell_type": "markdown",
            "metadata": {},
            "source": "### DOWNLOADING DATASET (Data-Collisions.csv)"
        },
        {
            "cell_type": "code",
            "execution_count": 9,
            "metadata": {
                "scrolled": false
            },
            "outputs": [
                {
                    "name": "stdout",
                    "output_type": "stream",
                    "text": "--2020-09-06 04:24:00--  https://s3.us.cloud-object-storage.appdomain.cloud/cf-courses-data/CognitiveClass/DP0701EN/version-2/Data-Collisions.csv\nResolving s3.us.cloud-object-storage.appdomain.cloud (s3.us.cloud-object-storage.appdomain.cloud)... 67.228.254.196\nConnecting to s3.us.cloud-object-storage.appdomain.cloud (s3.us.cloud-object-storage.appdomain.cloud)|67.228.254.196|:443... connected.\nHTTP request sent, awaiting response... 200 OK\nLength: 73917638 (70M) [text/csv]\nSaving to: \u2018Data-Collisions.csv\u2019\n\n100%[======================================>] 73,917,638  34.8MB/s   in 2.0s   \n\n2020-09-06 04:24:03 (34.8 MB/s) - \u2018Data-Collisions.csv\u2019 saved [73917638/73917638]\n\n"
                }
            ],
            "source": "!wget -O Data-Collisions.csv https://s3.us.cloud-object-storage.appdomain.cloud/cf-courses-data/CognitiveClass/DP0701EN/version-2/Data-Collisions.csv"
        },
        {
            "cell_type": "markdown",
            "metadata": {},
            "source": "### READING DOWNLOADED CSV FILE"
        },
        {
            "cell_type": "code",
            "execution_count": 10,
            "metadata": {
                "scrolled": false
            },
            "outputs": [
                {
                    "name": "stderr",
                    "output_type": "stream",
                    "text": "/opt/conda/envs/Python36/lib/python3.6/site-packages/IPython/core/interactiveshell.py:3020: DtypeWarning: Columns (33) have mixed types. Specify dtype option on import or set low_memory=False.\n  interactivity=interactivity, compiler=compiler, result=result)\n"
                },
                {
                    "data": {
                        "text/plain": "array(['SEVERITYCODE', 'X', 'Y', 'OBJECTID', 'INCKEY', 'COLDETKEY',\n       'REPORTNO', 'STATUS', 'ADDRTYPE', 'INTKEY', 'LOCATION',\n       'EXCEPTRSNCODE', 'EXCEPTRSNDESC', 'SEVERITYCODE.1', 'SEVERITYDESC',\n       'COLLISIONTYPE', 'PERSONCOUNT', 'PEDCOUNT', 'PEDCYLCOUNT',\n       'VEHCOUNT', 'INCDATE', 'INCDTTM', 'JUNCTIONTYPE', 'SDOT_COLCODE',\n       'SDOT_COLDESC', 'INATTENTIONIND', 'UNDERINFL', 'WEATHER',\n       'ROADCOND', 'LIGHTCOND', 'PEDROWNOTGRNT', 'SDOTCOLNUM', 'SPEEDING',\n       'ST_COLCODE', 'ST_COLDESC', 'SEGLANEKEY', 'CROSSWALKKEY',\n       'HITPARKEDCAR'], dtype=object)"
                    },
                    "execution_count": 10,
                    "metadata": {},
                    "output_type": "execute_result"
                }
            ],
            "source": "df=pd.read_csv('Data-Collisions.csv')\ndf.columns.values\n"
        },
        {
            "cell_type": "markdown",
            "metadata": {},
            "source": "### CREATING DATAFRAME WITH ONLY REQUIRED COLUMNS"
        },
        {
            "cell_type": "code",
            "execution_count": 11,
            "metadata": {
                "scrolled": true
            },
            "outputs": [
                {
                    "data": {
                        "text/html": "<div>\n<style scoped>\n    .dataframe tbody tr th:only-of-type {\n        vertical-align: middle;\n    }\n\n    .dataframe tbody tr th {\n        vertical-align: top;\n    }\n\n    .dataframe thead th {\n        text-align: right;\n    }\n</style>\n<table border=\"1\" class=\"dataframe\">\n  <thead>\n    <tr style=\"text-align: right;\">\n      <th></th>\n      <th>SEVERITYCODE</th>\n      <th>WEATHER</th>\n      <th>ROADCOND</th>\n      <th>LIGHTCOND</th>\n    </tr>\n  </thead>\n  <tbody>\n    <tr>\n      <th>0</th>\n      <td>2</td>\n      <td>Overcast</td>\n      <td>Wet</td>\n      <td>Daylight</td>\n    </tr>\n    <tr>\n      <th>1</th>\n      <td>1</td>\n      <td>Raining</td>\n      <td>Wet</td>\n      <td>Dark - Street Lights On</td>\n    </tr>\n    <tr>\n      <th>2</th>\n      <td>1</td>\n      <td>Overcast</td>\n      <td>Dry</td>\n      <td>Daylight</td>\n    </tr>\n    <tr>\n      <th>3</th>\n      <td>1</td>\n      <td>Clear</td>\n      <td>Dry</td>\n      <td>Daylight</td>\n    </tr>\n    <tr>\n      <th>4</th>\n      <td>2</td>\n      <td>Raining</td>\n      <td>Wet</td>\n      <td>Daylight</td>\n    </tr>\n  </tbody>\n</table>\n</div>",
                        "text/plain": "   SEVERITYCODE   WEATHER ROADCOND                LIGHTCOND\n0             2  Overcast      Wet                 Daylight\n1             1   Raining      Wet  Dark - Street Lights On\n2             1  Overcast      Dry                 Daylight\n3             1     Clear      Dry                 Daylight\n4             2   Raining      Wet                 Daylight"
                    },
                    "execution_count": 11,
                    "metadata": {},
                    "output_type": "execute_result"
                }
            ],
            "source": "df_required=df[['SEVERITYCODE','WEATHER','ROADCOND','LIGHTCOND']]\ndf_required.head()"
        },
        {
            "cell_type": "code",
            "execution_count": 12,
            "metadata": {},
            "outputs": [
                {
                    "data": {
                        "text/plain": "(194673, 4)"
                    },
                    "execution_count": 12,
                    "metadata": {},
                    "output_type": "execute_result"
                }
            ],
            "source": "df_required.shape"
        },
        {
            "cell_type": "code",
            "execution_count": 13,
            "metadata": {},
            "outputs": [
                {
                    "data": {
                        "text/plain": "SEVERITYCODE     int64\nWEATHER         object\nROADCOND        object\nLIGHTCOND       object\ndtype: object"
                    },
                    "execution_count": 13,
                    "metadata": {},
                    "output_type": "execute_result"
                }
            ],
            "source": "df_required.dtypes"
        },
        {
            "cell_type": "markdown",
            "metadata": {},
            "source": "### TOTAL NAN VALUES PER EACH COLUMN"
        },
        {
            "cell_type": "code",
            "execution_count": 14,
            "metadata": {
                "scrolled": true
            },
            "outputs": [
                {
                    "data": {
                        "text/plain": "SEVERITYCODE       0\nWEATHER         5081\nROADCOND        5012\nLIGHTCOND       5170\ndtype: int64"
                    },
                    "execution_count": 14,
                    "metadata": {},
                    "output_type": "execute_result"
                }
            ],
            "source": "df_required.isnull().sum()"
        },
        {
            "cell_type": "markdown",
            "metadata": {},
            "source": "### CATEGORY NAME AND FREQUENCY IN SEVERITYCODE ATTRIBUTE"
        },
        {
            "cell_type": "code",
            "execution_count": 15,
            "metadata": {
                "scrolled": false
            },
            "outputs": [
                {
                    "data": {
                        "text/plain": "1    136485\n2     58188\nName: SEVERITYCODE, dtype: int64"
                    },
                    "execution_count": 15,
                    "metadata": {},
                    "output_type": "execute_result"
                }
            ],
            "source": "df_required['SEVERITYCODE'].value_counts()"
        },
        {
            "cell_type": "markdown",
            "metadata": {},
            "source": "### CATEGORY NAME AND FREQUENCY IN WEATHER ATTRIBUTE"
        },
        {
            "cell_type": "code",
            "execution_count": 16,
            "metadata": {
                "scrolled": false
            },
            "outputs": [
                {
                    "data": {
                        "text/plain": "Clear                       111135\nRaining                      33145\nOvercast                     27714\nUnknown                      15091\nSnowing                        907\nOther                          832\nFog/Smog/Smoke                 569\nSleet/Hail/Freezing Rain       113\nBlowing Sand/Dirt               56\nSevere Crosswind                25\nPartly Cloudy                    5\nName: WEATHER, dtype: int64"
                    },
                    "execution_count": 16,
                    "metadata": {},
                    "output_type": "execute_result"
                }
            ],
            "source": "df_required['WEATHER'].value_counts()"
        },
        {
            "cell_type": "markdown",
            "metadata": {},
            "source": "### CATEGORY NAME AND FREQUENCY IN ROADCOND ATTRIBUTE"
        },
        {
            "cell_type": "code",
            "execution_count": 17,
            "metadata": {},
            "outputs": [
                {
                    "data": {
                        "text/plain": "Dry               124510\nWet                47474\nUnknown            15078\nIce                 1209\nSnow/Slush          1004\nOther                132\nStanding Water       115\nSand/Mud/Dirt         75\nOil                   64\nName: ROADCOND, dtype: int64"
                    },
                    "execution_count": 17,
                    "metadata": {},
                    "output_type": "execute_result"
                }
            ],
            "source": "df_required['ROADCOND'].value_counts()"
        },
        {
            "cell_type": "markdown",
            "metadata": {},
            "source": "### CATEGORY NAME AND FREQUENCY IN LIGHTCOND ATTRIBUTE"
        },
        {
            "cell_type": "code",
            "execution_count": 18,
            "metadata": {
                "scrolled": true
            },
            "outputs": [
                {
                    "data": {
                        "text/plain": "Daylight                    116137\nDark - Street Lights On      48507\nUnknown                      13473\nDusk                          5902\nDawn                          2502\nDark - No Street Lights       1537\nDark - Street Lights Off      1199\nOther                          235\nDark - Unknown Lighting         11\nName: LIGHTCOND, dtype: int64"
                    },
                    "execution_count": 18,
                    "metadata": {},
                    "output_type": "execute_result"
                }
            ],
            "source": "df_required['LIGHTCOND'].value_counts()"
        },
        {
            "cell_type": "markdown",
            "metadata": {},
            "source": "### CALCULATING MODE OF WEATHER ATTRIBUTE"
        },
        {
            "cell_type": "code",
            "execution_count": 19,
            "metadata": {},
            "outputs": [
                {
                    "data": {
                        "text/plain": "0    Clear\ndtype: object"
                    },
                    "execution_count": 19,
                    "metadata": {},
                    "output_type": "execute_result"
                }
            ],
            "source": "weathermode=df_required['WEATHER'].mode()\nweathermode"
        },
        {
            "cell_type": "markdown",
            "metadata": {},
            "source": "### REPLCING MISSING WEATHER ATTRIBUTE VALUES WITH MODE OF WEATHER ATTRIBUTE"
        },
        {
            "cell_type": "code",
            "execution_count": 20,
            "metadata": {},
            "outputs": [
                {
                    "name": "stderr",
                    "output_type": "stream",
                    "text": "/opt/conda/envs/Python36/lib/python3.6/site-packages/pandas/core/generic.py:6586: SettingWithCopyWarning: \nA value is trying to be set on a copy of a slice from a DataFrame\n\nSee the caveats in the documentation: http://pandas.pydata.org/pandas-docs/stable/indexing.html#indexing-view-versus-copy\n  self._update_inplace(new_data)\n"
                }
            ],
            "source": "df_required['WEATHER'].replace(np.nan, 'Clear', inplace=True)"
        },
        {
            "cell_type": "markdown",
            "metadata": {},
            "source": "### CALCULATING MODE OF ROADCOND ATTRIBUTE"
        },
        {
            "cell_type": "code",
            "execution_count": 21,
            "metadata": {},
            "outputs": [
                {
                    "data": {
                        "text/plain": "0    Dry\ndtype: object"
                    },
                    "execution_count": 21,
                    "metadata": {},
                    "output_type": "execute_result"
                }
            ],
            "source": "roadcondmode=df_required['ROADCOND'].mode()\nroadcondmode"
        },
        {
            "cell_type": "markdown",
            "metadata": {},
            "source": "### REPLCING MISSING ROADCOND ATTRIBUTE VALUES WITH MODE OF ROADCOND ATTRIBUTE"
        },
        {
            "cell_type": "code",
            "execution_count": 22,
            "metadata": {},
            "outputs": [],
            "source": "df_required['ROADCOND'].replace(np.nan, 'Dry', inplace=True)"
        },
        {
            "cell_type": "markdown",
            "metadata": {},
            "source": "### CALCULATING MODE OF LIGHTCOND ATTRIBUTE"
        },
        {
            "cell_type": "code",
            "execution_count": 23,
            "metadata": {
                "scrolled": true
            },
            "outputs": [
                {
                    "data": {
                        "text/plain": "0    Daylight\ndtype: object"
                    },
                    "execution_count": 23,
                    "metadata": {},
                    "output_type": "execute_result"
                }
            ],
            "source": "lightcondmode=df_required['LIGHTCOND'].mode()\nlightcondmode"
        },
        {
            "cell_type": "markdown",
            "metadata": {},
            "source": "### REPLCING MISSING LIGHTCOND ATTRIBUTE VALUES WITH MODE OF LIGHTCOND ATTRIBUTE"
        },
        {
            "cell_type": "code",
            "execution_count": 24,
            "metadata": {},
            "outputs": [],
            "source": "df_required['LIGHTCOND'].replace(np.nan, 'Daylight', inplace=True)"
        },
        {
            "cell_type": "markdown",
            "metadata": {},
            "source": "### CONVERTING OBJECT TYPE ATTRIBUTES TO CATEGORY TYPE USING "
        },
        {
            "cell_type": "code",
            "execution_count": 25,
            "metadata": {
                "scrolled": false
            },
            "outputs": [
                {
                    "name": "stderr",
                    "output_type": "stream",
                    "text": "/opt/conda/envs/Python36/lib/python3.6/site-packages/ipykernel/__main__.py:1: SettingWithCopyWarning: \nA value is trying to be set on a copy of a slice from a DataFrame.\nTry using .loc[row_indexer,col_indexer] = value instead\n\nSee the caveats in the documentation: http://pandas.pydata.org/pandas-docs/stable/indexing.html#indexing-view-versus-copy\n  if __name__ == '__main__':\n/opt/conda/envs/Python36/lib/python3.6/site-packages/ipykernel/__main__.py:2: SettingWithCopyWarning: \nA value is trying to be set on a copy of a slice from a DataFrame.\nTry using .loc[row_indexer,col_indexer] = value instead\n\nSee the caveats in the documentation: http://pandas.pydata.org/pandas-docs/stable/indexing.html#indexing-view-versus-copy\n  from ipykernel import kernelapp as app\n/opt/conda/envs/Python36/lib/python3.6/site-packages/ipykernel/__main__.py:3: SettingWithCopyWarning: \nA value is trying to be set on a copy of a slice from a DataFrame.\nTry using .loc[row_indexer,col_indexer] = value instead\n\nSee the caveats in the documentation: http://pandas.pydata.org/pandas-docs/stable/indexing.html#indexing-view-versus-copy\n  app.launch_new_instance()\n"
                }
            ],
            "source": "df_required['WEATHER'] = df_required['WEATHER'].astype('category')\ndf_required['ROADCOND'] = df_required['ROADCOND'].astype('category')\ndf_required['LIGHTCOND'] = df_required['LIGHTCOND'].astype('category')\n"
        },
        {
            "cell_type": "markdown",
            "metadata": {},
            "source": "### OBJECT DATATYPES CONVERTED TO CATEGORY DATATYPE"
        },
        {
            "cell_type": "code",
            "execution_count": 26,
            "metadata": {
                "scrolled": true
            },
            "outputs": [
                {
                    "data": {
                        "text/plain": "SEVERITYCODE       int64\nWEATHER         category\nROADCOND        category\nLIGHTCOND       category\ndtype: object"
                    },
                    "execution_count": 26,
                    "metadata": {},
                    "output_type": "execute_result"
                }
            ],
            "source": "df_required.dtypes"
        },
        {
            "cell_type": "markdown",
            "metadata": {},
            "source": "### LABEL ENCODING CATEGORY ATTRIBUTES"
        },
        {
            "cell_type": "code",
            "execution_count": 27,
            "metadata": {
                "scrolled": true
            },
            "outputs": [
                {
                    "name": "stderr",
                    "output_type": "stream",
                    "text": "/opt/conda/envs/Python36/lib/python3.6/site-packages/ipykernel/__main__.py:1: SettingWithCopyWarning: \nA value is trying to be set on a copy of a slice from a DataFrame.\nTry using .loc[row_indexer,col_indexer] = value instead\n\nSee the caveats in the documentation: http://pandas.pydata.org/pandas-docs/stable/indexing.html#indexing-view-versus-copy\n  if __name__ == '__main__':\n/opt/conda/envs/Python36/lib/python3.6/site-packages/ipykernel/__main__.py:2: SettingWithCopyWarning: \nA value is trying to be set on a copy of a slice from a DataFrame.\nTry using .loc[row_indexer,col_indexer] = value instead\n\nSee the caveats in the documentation: http://pandas.pydata.org/pandas-docs/stable/indexing.html#indexing-view-versus-copy\n  from ipykernel import kernelapp as app\n/opt/conda/envs/Python36/lib/python3.6/site-packages/ipykernel/__main__.py:3: SettingWithCopyWarning: \nA value is trying to be set on a copy of a slice from a DataFrame.\nTry using .loc[row_indexer,col_indexer] = value instead\n\nSee the caveats in the documentation: http://pandas.pydata.org/pandas-docs/stable/indexing.html#indexing-view-versus-copy\n  app.launch_new_instance()\n"
                }
            ],
            "source": "df_required[\"WEATHER_CAT\"] = df_required[\"WEATHER\"].cat.codes\ndf_required[\"ROADCOND_CAT\"] = df_required[\"ROADCOND\"].cat.codes\ndf_required[\"LIGHTCOND_CAT\"] = df_required[\"LIGHTCOND\"].cat.codes"
        },
        {
            "cell_type": "code",
            "execution_count": 28,
            "metadata": {
                "scrolled": false
            },
            "outputs": [
                {
                    "data": {
                        "text/html": "<div>\n<style scoped>\n    .dataframe tbody tr th:only-of-type {\n        vertical-align: middle;\n    }\n\n    .dataframe tbody tr th {\n        vertical-align: top;\n    }\n\n    .dataframe thead th {\n        text-align: right;\n    }\n</style>\n<table border=\"1\" class=\"dataframe\">\n  <thead>\n    <tr style=\"text-align: right;\">\n      <th></th>\n      <th>SEVERITYCODE</th>\n      <th>WEATHER</th>\n      <th>ROADCOND</th>\n      <th>LIGHTCOND</th>\n      <th>WEATHER_CAT</th>\n      <th>ROADCOND_CAT</th>\n      <th>LIGHTCOND_CAT</th>\n    </tr>\n  </thead>\n  <tbody>\n    <tr>\n      <th>0</th>\n      <td>2</td>\n      <td>Overcast</td>\n      <td>Wet</td>\n      <td>Daylight</td>\n      <td>4</td>\n      <td>8</td>\n      <td>5</td>\n    </tr>\n    <tr>\n      <th>1</th>\n      <td>1</td>\n      <td>Raining</td>\n      <td>Wet</td>\n      <td>Dark - Street Lights On</td>\n      <td>6</td>\n      <td>8</td>\n      <td>2</td>\n    </tr>\n    <tr>\n      <th>2</th>\n      <td>1</td>\n      <td>Overcast</td>\n      <td>Dry</td>\n      <td>Daylight</td>\n      <td>4</td>\n      <td>0</td>\n      <td>5</td>\n    </tr>\n    <tr>\n      <th>3</th>\n      <td>1</td>\n      <td>Clear</td>\n      <td>Dry</td>\n      <td>Daylight</td>\n      <td>1</td>\n      <td>0</td>\n      <td>5</td>\n    </tr>\n    <tr>\n      <th>4</th>\n      <td>2</td>\n      <td>Raining</td>\n      <td>Wet</td>\n      <td>Daylight</td>\n      <td>6</td>\n      <td>8</td>\n      <td>5</td>\n    </tr>\n  </tbody>\n</table>\n</div>",
                        "text/plain": "   SEVERITYCODE   WEATHER ROADCOND                LIGHTCOND  WEATHER_CAT  \\\n0             2  Overcast      Wet                 Daylight            4   \n1             1   Raining      Wet  Dark - Street Lights On            6   \n2             1  Overcast      Dry                 Daylight            4   \n3             1     Clear      Dry                 Daylight            1   \n4             2   Raining      Wet                 Daylight            6   \n\n   ROADCOND_CAT  LIGHTCOND_CAT  \n0             8              5  \n1             8              2  \n2             0              5  \n3             0              5  \n4             8              5  "
                    },
                    "execution_count": 28,
                    "metadata": {},
                    "output_type": "execute_result"
                }
            ],
            "source": "df_required.head()"
        },
        {
            "cell_type": "markdown",
            "metadata": {},
            "source": "### DOWNSAMPLING SEVERITYCODE FOR ACCURATE ALGORITHM"
        },
        {
            "cell_type": "code",
            "execution_count": 29,
            "metadata": {},
            "outputs": [
                {
                    "data": {
                        "text/plain": "2    58188\n1    58188\nName: SEVERITYCODE, dtype: int64"
                    },
                    "execution_count": 29,
                    "metadata": {},
                    "output_type": "execute_result"
                }
            ],
            "source": "df_requiredmajority = df_required[df_required.SEVERITYCODE==1]\ndf_requiredminority = df_required[df_required.SEVERITYCODE==2]\n\ndf_requiredmajority_downsampled = resample(df_requiredmajority, \n                                           replace=False,    \n                                           n_samples=58188,     \n                                           random_state=123) \n\ndf_requireddownsampled = pd.concat([df_requiredmajority_downsampled, df_requiredminority])\ndf_requireddownsampled.SEVERITYCODE.value_counts()"
        },
        {
            "cell_type": "code",
            "execution_count": 30,
            "metadata": {},
            "outputs": [
                {
                    "data": {
                        "text/plain": "(116376, 7)"
                    },
                    "execution_count": 30,
                    "metadata": {},
                    "output_type": "execute_result"
                }
            ],
            "source": "df_requireddownsampled.shape"
        },
        {
            "cell_type": "code",
            "execution_count": 31,
            "metadata": {
                "scrolled": false
            },
            "outputs": [
                {
                    "data": {
                        "text/plain": "SEVERITYCODE     0\nWEATHER          0\nROADCOND         0\nLIGHTCOND        0\nWEATHER_CAT      0\nROADCOND_CAT     0\nLIGHTCOND_CAT    0\ndtype: int64"
                    },
                    "execution_count": 31,
                    "metadata": {},
                    "output_type": "execute_result"
                }
            ],
            "source": "df_requireddownsampled.isnull().sum()"
        },
        {
            "cell_type": "code",
            "execution_count": 32,
            "metadata": {
                "scrolled": true
            },
            "outputs": [
                {
                    "data": {
                        "text/plain": "SEVERITYCODE        int64\nWEATHER          category\nROADCOND         category\nLIGHTCOND        category\nWEATHER_CAT          int8\nROADCOND_CAT         int8\nLIGHTCOND_CAT        int8\ndtype: object"
                    },
                    "execution_count": 32,
                    "metadata": {},
                    "output_type": "execute_result"
                }
            ],
            "source": "df_requireddownsampled.dtypes"
        },
        {
            "cell_type": "markdown",
            "metadata": {},
            "source": "# METHODOLOGY\n\n<ol>\n<li>K-Nearest Neighbor (KNN)</li>\n     KNN will help us predict the severity code by finding the most similar to data point within given k distance.\n<li>Decision Tree</li>\n    A decision tree model gives us a layout of all possible outcomes so we can fully analyze the concequences of a decision. It context, the decision tree observes all possible outcomes of different weather conditions.\n    \n<li>Logistic Regression</li>\n    Because our dataset only provides us with two severity code outcomes, our model will only predict one of those two classes. This makes our data binary, which is perfect to use with logistic regression.\n</ol>\n"
        },
        {
            "cell_type": "markdown",
            "metadata": {},
            "source": "## X and y"
        },
        {
            "cell_type": "code",
            "execution_count": 33,
            "metadata": {},
            "outputs": [
                {
                    "data": {
                        "text/plain": "array([[ 6,  8,  2],\n       [ 1,  0,  5],\n       [10,  7,  8],\n       [ 1,  0,  5],\n       [ 1,  0,  5]], dtype=int8)"
                    },
                    "execution_count": 33,
                    "metadata": {},
                    "output_type": "execute_result"
                }
            ],
            "source": "X=np.asarray(df_requireddownsampled[['WEATHER_CAT','ROADCOND_CAT','LIGHTCOND_CAT']])\nX[0:5]"
        },
        {
            "cell_type": "code",
            "execution_count": 34,
            "metadata": {
                "scrolled": true
            },
            "outputs": [
                {
                    "data": {
                        "text/plain": "array([1, 1, 1, 1, 1])"
                    },
                    "execution_count": 34,
                    "metadata": {},
                    "output_type": "execute_result"
                }
            ],
            "source": "y=np.asarray(df_requireddownsampled['SEVERITYCODE'])\ny[0:5]\n\n"
        },
        {
            "cell_type": "markdown",
            "metadata": {},
            "source": "## NORMALIZE DATASET"
        },
        {
            "cell_type": "code",
            "execution_count": 35,
            "metadata": {
                "scrolled": true
            },
            "outputs": [
                {
                    "name": "stderr",
                    "output_type": "stream",
                    "text": "/opt/conda/envs/Python36/lib/python3.6/site-packages/sklearn/utils/validation.py:595: DataConversionWarning: Data with input dtype int8 was converted to float64 by StandardScaler.\n  warnings.warn(msg, DataConversionWarning)\n/opt/conda/envs/Python36/lib/python3.6/site-packages/sklearn/utils/validation.py:595: DataConversionWarning: Data with input dtype int8 was converted to float64 by StandardScaler.\n  warnings.warn(msg, DataConversionWarning)\n"
                },
                {
                    "data": {
                        "text/plain": "array([[ 1.15634067,  1.52957631, -1.45245862],\n       [-0.70578591, -0.68099493,  0.39105021],\n       [ 2.64604194,  1.25325491,  2.23455904],\n       [-0.70578591, -0.68099493,  0.39105021],\n       [-0.70578591, -0.68099493,  0.39105021]])"
                    },
                    "execution_count": 35,
                    "metadata": {},
                    "output_type": "execute_result"
                }
            ],
            "source": "X=preprocessing.StandardScaler().fit(X).transform(X)\nX[0:5]"
        },
        {
            "cell_type": "markdown",
            "metadata": {},
            "source": "## TRAIN AND TEST SPLIT"
        },
        {
            "cell_type": "code",
            "execution_count": 36,
            "metadata": {
                "scrolled": true
            },
            "outputs": [
                {
                    "name": "stdout",
                    "output_type": "stream",
                    "text": "Train set: (81463, 3) (81463,)\nTest set: (34913, 3) (34913,)\n"
                }
            ],
            "source": "from sklearn.model_selection import train_test_split\nX_train, X_test, y_train, y_test = train_test_split (X, y, test_size=0.3, random_state=1)\nprint('Train set:', X_train.shape , y_train.shape)\nprint('Test set:', X_test.shape , y_test.shape)"
        },
        {
            "cell_type": "code",
            "execution_count": 37,
            "metadata": {},
            "outputs": [],
            "source": "from sklearn.metrics import jaccard_similarity_score\n\n"
        },
        {
            "cell_type": "markdown",
            "metadata": {},
            "source": "# MODELING"
        },
        {
            "cell_type": "markdown",
            "metadata": {},
            "source": "## K-NEAREST NEIGHBORS"
        },
        {
            "cell_type": "code",
            "execution_count": 43,
            "metadata": {
                "scrolled": true
            },
            "outputs": [
                {
                    "data": {
                        "text/plain": "array([0.50110274, 0.50018618, 0.50620113, 0.50580013, 0.50654484,\n       0.50488357, 0.50370922, 0.50425343, 0.50892218, 0.50774783,\n       0.52189729, 0.51794461, 0.51783003, 0.51777275, 0.51768682,\n       0.50754733, 0.51757225, 0.51891845, 0.51831696, 0.50975281,\n       0.5189471 , 0.50946639, 0.51837424, 0.50511271, 0.5185461 ,\n       0.51118495, 0.52092344, 0.52086615, 0.52175407])"
                    },
                    "execution_count": 43,
                    "metadata": {},
                    "output_type": "execute_result"
                }
            ],
            "source": "from sklearn.neighbors import KNeighborsClassifier\nfrom sklearn import metrics\nKsjacard = 30\njacard_acc = np.zeros((Ksjacard-1))\nfor n in range(1,Ksjacard):\n    \n    #Train Model and Predict  \n    neigh = KNeighborsClassifier(n_neighbors = n).fit(X_train,y_train)\n    yhat=neigh.predict(X_test)\n    jacard_acc[n-1] = jaccard_similarity_score(y_test, yhat)\n\njacard_acc"
        },
        {
            "cell_type": "markdown",
            "metadata": {},
            "source": "## Printing Best 'K'"
        },
        {
            "cell_type": "code",
            "execution_count": 44,
            "metadata": {},
            "outputs": [
                {
                    "name": "stdout",
                    "output_type": "stream",
                    "text": "The best accuracy was with 0.521897287543322 with k= 11\n"
                }
            ],
            "source": "print( \"The best accuracy was with\", jacard_acc.max(), \"with k=\", jacard_acc.argmax()+1) "
        },
        {
            "cell_type": "markdown",
            "metadata": {},
            "source": "## DECISION TREE"
        },
        {
            "cell_type": "code",
            "execution_count": 45,
            "metadata": {
                "scrolled": false
            },
            "outputs": [
                {
                    "data": {
                        "text/plain": "array([0.54203305, 0.54850629, 0.54850629, 0.55432074, 0.55518002,\n       0.5573855 , 0.55755736, 0.55755736, 0.55566694, 0.55549509,\n       0.55532323, 0.55535187, 0.55540916, 0.55532323, 0.55520866,\n       0.55520866, 0.55520866, 0.55520866, 0.55520866, 0.55520866,\n       0.55520866, 0.55520866, 0.55520866, 0.55520866, 0.55520866,\n       0.55520866, 0.55520866, 0.55520866, 0.55520866, 0.55520866,\n       0.55520866, 0.55520866, 0.55520866, 0.55520866])"
                    },
                    "execution_count": 45,
                    "metadata": {},
                    "output_type": "execute_result"
                }
            ],
            "source": "from sklearn.tree import DecisionTreeClassifier\n\ndecisionjacard = 35\ndecisionjacard_acc = np.zeros((decisionjacard-1))\nfor n in range(1,decisionjacard):\n    \n    #Train Model and Predict  \n    decisionTree = DecisionTreeClassifier(criterion=\"entropy\", max_depth = n).fit(X_train,y_train)\n    decisionTreehat=decisionTree.predict(X_test)\n    decisionjacard_acc[n-1] = jaccard_similarity_score(y_test, decisionTreehat)\n\n    \ndecisionjacard_acc"
        },
        {
            "cell_type": "markdown",
            "metadata": {},
            "source": "## PRINTING BEST 'MAXDEPTH'"
        },
        {
            "cell_type": "code",
            "execution_count": 46,
            "metadata": {
                "scrolled": true
            },
            "outputs": [
                {
                    "name": "stdout",
                    "output_type": "stream",
                    "text": "The best accuracy was with 0.5575573568584767 with max_depth= 7\n"
                }
            ],
            "source": "print( \"The best accuracy was with\", decisionjacard_acc.max(), \"with max_depth=\", decisionjacard_acc.argmax()+1) "
        },
        {
            "cell_type": "markdown",
            "metadata": {},
            "source": "## LOGISTIC REGRESSION"
        },
        {
            "cell_type": "code",
            "execution_count": 47,
            "metadata": {},
            "outputs": [],
            "source": "from sklearn.linear_model import LogisticRegression"
        },
        {
            "cell_type": "code",
            "execution_count": 48,
            "metadata": {},
            "outputs": [
                {
                    "data": {
                        "text/plain": "array([0.53169307, 0.53169307, 0.53169307, 0.53169307, 0.53169307,\n       0.53169307, 0.53169307, 0.53169307, 0.53169307, 0.53169307,\n       0.53169307, 0.53169307, 0.53169307, 0.53169307, 0.53169307,\n       0.53169307, 0.53169307, 0.53169307, 0.53169307, 0.53169307,\n       0.53169307, 0.53169307, 0.53169307, 0.53169307])"
                    },
                    "execution_count": 48,
                    "metadata": {},
                    "output_type": "execute_result"
                }
            ],
            "source": "logisticjacard = 25\nlogisticjacard_acc = np.zeros((logisticjacard-1))\nfor n in range(1,logisticjacard):\n    \n    #Train Model and Predict  \n    LR = LogisticRegression(C=n, solver='liblinear').fit(X_train,y_train)\n    lrhat=LR.predict(X_test)\n    logisticjacard_acc[n-1] = jaccard_similarity_score(y_test, lrhat)\n\n    \nlogisticjacard_acc\n"
        },
        {
            "cell_type": "code",
            "execution_count": 49,
            "metadata": {},
            "outputs": [],
            "source": "from sklearn.metrics import f1_score\nfrom sklearn.metrics import log_loss"
        },
        {
            "cell_type": "markdown",
            "metadata": {},
            "source": "## PRINTING BEST HYPER PARAMETER"
        },
        {
            "cell_type": "code",
            "execution_count": 50,
            "metadata": {},
            "outputs": [
                {
                    "name": "stdout",
                    "output_type": "stream",
                    "text": "The best accuracy was with 0.5316930656202561 with C= 1\n"
                }
            ],
            "source": "print( \"The best accuracy was with\", logisticjacard_acc.max(), \"with C=\", logisticjacard_acc.argmax()+1) "
        },
        {
            "cell_type": "markdown",
            "metadata": {},
            "source": "# RESULTS & EVALUATION "
        },
        {
            "cell_type": "markdown",
            "metadata": {},
            "source": "### K-NEAREST NEIGHBOR JACARD INDEX"
        },
        {
            "cell_type": "markdown",
            "metadata": {},
            "source": "#### MODEL IS ACCURATE WITH K=11"
        },
        {
            "cell_type": "code",
            "execution_count": 51,
            "metadata": {},
            "outputs": [],
            "source": "neigh1 = KNeighborsClassifier(n_neighbors = 11).fit(X_train,y_train)\nyhat1=neigh1.predict(X_test)"
        },
        {
            "cell_type": "code",
            "execution_count": 52,
            "metadata": {},
            "outputs": [
                {
                    "data": {
                        "text/plain": "0.521897287543322"
                    },
                    "execution_count": 52,
                    "metadata": {},
                    "output_type": "execute_result"
                }
            ],
            "source": "jaccard_similarity_score(y_test, yhat1)"
        },
        {
            "cell_type": "markdown",
            "metadata": {},
            "source": "### K-NEAREST NEIGHBOR F1-SCORE"
        },
        {
            "cell_type": "code",
            "execution_count": 53,
            "metadata": {},
            "outputs": [
                {
                    "data": {
                        "text/plain": "0.520638364931839"
                    },
                    "execution_count": 53,
                    "metadata": {},
                    "output_type": "execute_result"
                }
            ],
            "source": "f1_score(y_test,yhat1, average='weighted')"
        },
        {
            "cell_type": "markdown",
            "metadata": {},
            "source": "### DECISION TREE JACARD INDEX"
        },
        {
            "cell_type": "markdown",
            "metadata": {},
            "source": "##### MODEL IS ACCURATE WITH MAX_DEPTH=7"
        },
        {
            "cell_type": "code",
            "execution_count": 54,
            "metadata": {},
            "outputs": [
                {
                    "data": {
                        "text/plain": "0.5575573568584767"
                    },
                    "execution_count": 54,
                    "metadata": {},
                    "output_type": "execute_result"
                }
            ],
            "source": "decisionTree1 = DecisionTreeClassifier(criterion=\"entropy\", max_depth = 7).fit(X_train,y_train)\ndecisionTreehat1= decisionTree1.predict(X_test)\njaccard_similarity_score(y_test, decisionTreehat1)"
        },
        {
            "cell_type": "markdown",
            "metadata": {},
            "source": "### DECISION TREE F1-SCORE"
        },
        {
            "cell_type": "code",
            "execution_count": 55,
            "metadata": {},
            "outputs": [
                {
                    "data": {
                        "text/plain": "0.5324948342068622"
                    },
                    "execution_count": 55,
                    "metadata": {},
                    "output_type": "execute_result"
                }
            ],
            "source": "f1_score(y_test, decisionTreehat1, average='weighted')"
        },
        {
            "cell_type": "markdown",
            "metadata": {},
            "source": "### LOGISTIC REGRESSION JACARD INDEX"
        },
        {
            "cell_type": "code",
            "execution_count": 56,
            "metadata": {},
            "outputs": [
                {
                    "data": {
                        "text/plain": "0.5316930656202561"
                    },
                    "execution_count": 56,
                    "metadata": {},
                    "output_type": "execute_result"
                }
            ],
            "source": "LR1 = LogisticRegression(C=1, solver='liblinear').fit(X_train,y_train)\nlrhat1=LR1.predict(X_test)\njaccard_similarity_score(y_test, lrhat1)"
        },
        {
            "cell_type": "markdown",
            "metadata": {},
            "source": "### LOGISTIC REGRESSION F1-SCORE"
        },
        {
            "cell_type": "code",
            "execution_count": 57,
            "metadata": {},
            "outputs": [
                {
                    "data": {
                        "text/plain": "0.5176680676444921"
                    },
                    "execution_count": 57,
                    "metadata": {},
                    "output_type": "execute_result"
                }
            ],
            "source": "f1_score(y_test, lrhat1, average='weighted')"
        },
        {
            "cell_type": "markdown",
            "metadata": {},
            "source": "### LOGISTIC REGRESSION LOG LOSS "
        },
        {
            "cell_type": "code",
            "execution_count": 58,
            "metadata": {},
            "outputs": [],
            "source": "from sklearn.metrics import log_loss"
        },
        {
            "cell_type": "code",
            "execution_count": 59,
            "metadata": {
                "scrolled": true
            },
            "outputs": [
                {
                    "data": {
                        "text/plain": "0.6829193712785075"
                    },
                    "execution_count": 59,
                    "metadata": {},
                    "output_type": "execute_result"
                }
            ],
            "source": "yhat_prob=LR1.predict_proba(X_test)\nlog_loss(y_test,yhat_prob)"
        },
        {
            "cell_type": "markdown",
            "metadata": {},
            "source": "## DISCUSSION"
        },
        {
            "cell_type": "markdown",
            "metadata": {},
            "source": "In the beginning of this notebook, we had categorical data that was of type 'object'. This is not a data type that we could have fed through an algoritim, so label encoding was used to create new attributes that were of type int8; a numerical data type.\n\nAfter solving that issue we were presented with another - imbalanced data. As mentioned earlier, class 1 was nearly three times larger than class 2. The solution to this was downsampling the majority class with sklearn's resample tool. We downsampled to match the minority class exactly with 58188 values each.\n\nOnce we analyzed and cleaned the data, it was then fed through three ML models; K-Nearest Neighbor, Decision Tree and Logistic Regression. Although the first two are ideal for this project, logistic regression made most sense because of its binary nature.\n\nEvaluation metrics used to test the accuracy of our models were jaccard index, f-1 score and logloss for logistic regression. Choosing different k, max depth and hyparameter C values helped to improve our accuracy to be the best possible.\n\n"
        },
        {
            "cell_type": "markdown",
            "metadata": {},
            "source": "## CONCLUSION"
        },
        {
            "cell_type": "markdown",
            "metadata": {},
            "source": "Based on historical data conditions pointing to certain classes, we can conclude that particular conditions have a somewhat impact on whether or not travel could result in property damage (class 1) or injury (class 2).\n\nThank you !!"
        },
        {
            "cell_type": "code",
            "execution_count": null,
            "metadata": {},
            "outputs": [],
            "source": ""
        }
    ],
    "metadata": {
        "kernelspec": {
            "display_name": "Python 3.6",
            "language": "python",
            "name": "python3"
        },
        "language_info": {
            "codemirror_mode": {
                "name": "ipython",
                "version": 3
            },
            "file_extension": ".py",
            "mimetype": "text/x-python",
            "name": "python",
            "nbconvert_exporter": "python",
            "pygments_lexer": "ipython3",
            "version": "3.6.9"
        }
    },
    "nbformat": 4,
    "nbformat_minor": 1
}
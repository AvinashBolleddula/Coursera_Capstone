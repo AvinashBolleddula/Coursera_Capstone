{
    "cells": [
        {
            "metadata": {},
            "cell_type": "markdown",
            "source": "# Coursera_Capstone\n## This Notebook Will Be Mainly Used For Couresra_Capstone Project (IBM PROFESSIONAL)"
        },
        {
            "metadata": {
                "scrolled": true
            },
            "cell_type": "code",
            "source": "import pandas as pd\nimport numpy as np\nprint('Hello Capstone Project Course!')",
            "execution_count": 1,
            "outputs": [
                {
                    "output_type": "stream",
                    "text": "Hello Capstone Project Course!\n",
                    "name": "stdout"
                }
            ]
        },
        {
            "metadata": {},
            "cell_type": "markdown",
            "source": "# Introduction |  Business UnderStanding\n\n### In an effort to reduce the frequency of vehicle collisions in a community, an algorithim or model must be developed in order to predict the severity of an accident given the current weather, road and visibility conditions. When conditions are bad, this model will alert drivers to remind them to be more careful ie (either slowing down their vehicles or taking other possible routes.)"
        },
        {
            "metadata": {
                "scrolled": false
            },
            "cell_type": "markdown",
            "source": "# Data Understanding\n\n### Our predictor or target variable will be 'SEVERITYCODE' because it is used measure the severity of an accident from 0 to 5 within the dataset. Attributes used to weigh the severity of an accident are 'WEATHER', 'ROADCOND' and 'LIGHTCOND'.\n\nSeverity codes are as follows:\n\n* 0 : Little to no Probability (Clear Conditions)\n\n\n1 : Very Low Probablility - Chance or Property Damage\n\n2 : Low Probability - Chance of Injury\n\n3 : Mild Probability - Chance of Serious Injury\n\n4 : High Probability - Chance of Fatality\n"
        },
        {
            "metadata": {},
            "cell_type": "code",
            "source": "",
            "execution_count": null,
            "outputs": []
        }
    ],
    "metadata": {
        "kernelspec": {
            "name": "python3",
            "display_name": "Python 3.6",
            "language": "python"
        },
        "language_info": {
            "name": "python",
            "version": "3.6.9",
            "mimetype": "text/x-python",
            "codemirror_mode": {
                "name": "ipython",
                "version": 3
            },
            "pygments_lexer": "ipython3",
            "nbconvert_exporter": "python",
            "file_extension": ".py"
        }
    },
    "nbformat": 4,
    "nbformat_minor": 1
}
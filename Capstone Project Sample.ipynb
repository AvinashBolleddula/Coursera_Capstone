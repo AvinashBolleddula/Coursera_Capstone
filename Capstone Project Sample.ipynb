{
    "cells": [
        {
            "cell_type": "markdown",
            "metadata": {},
            "source": "# Coursera_Capstone\n## This Notebook Will Be Mainly Used For Couresra_Capstone Project (IBM PROFESSIONAL)"
        },
        {
            "cell_type": "code",
            "execution_count": 1,
            "metadata": {
                "scrolled": true
            },
            "outputs": [
                {
                    "name": "stdout",
                    "output_type": "stream",
                    "text": "Hello Capstone Project Course!\n"
                }
            ],
            "source": "import pandas as pd\nimport numpy as np\nprint('Hello Capstone Project Course!')"
        },
        {
            "cell_type": "markdown",
            "metadata": {},
            "source": "# Data Understanding\n\n### Our predictor or target variable will be 'SEVERITYCODE' because it is used measure the severity of an accident from 0 to 5 within the dataset. Attributes used to weigh the severity of an accident are 'WEATHER', 'ROADCOND' and 'LIGHTCOND'.\n\n### Severity codes are as follows:\n\n0 : Little to no Probability (Clear Conditions)\n\n\n1 : Very Low Probablility - Chance or Property Damage\n\n2 : Low Probability - Chance of Injury\n\n3 : Mild Probability - Chance of Serious Injury\n\n4 : High Probability - Chance of Fatality\n"
        },
        {
            "cell_type": "markdown",
            "metadata": {
                "scrolled": false
            },
            "source": "\n\n"
        }
    ],
    "metadata": {
        "kernelspec": {
            "display_name": "Python 3.6",
            "language": "python",
            "name": "python3"
        },
        "language_info": {
            "codemirror_mode": {
                "name": "ipython",
                "version": 3
            },
            "file_extension": ".py",
            "mimetype": "text/x-python",
            "name": "python",
            "nbconvert_exporter": "python",
            "pygments_lexer": "ipython3",
            "version": "3.6.9"
        }
    },
    "nbformat": 4,
    "nbformat_minor": 1
}
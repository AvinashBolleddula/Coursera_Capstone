{
    "cells": [
        {
            "cell_type": "markdown",
            "metadata": {},
            "source": "# Coursera_Capstone\n## This Notebook Will Be Mainly Used For Couresra_Capstone Project (IBM PROFESSIONAL)"
        },
        {
            "cell_type": "code",
            "execution_count": 1,
            "metadata": {
                "scrolled": true
            },
            "outputs": [
                {
                    "name": "stdout",
                    "output_type": "stream",
                    "text": "Hello Capstone Project Course!\n"
                }
            ],
            "source": "import pandas as pd\nimport numpy as np\nprint('Hello Capstone Project Course!')"
        },
        {
            "cell_type": "markdown",
            "metadata": {},
            "source": "# Introduction |  Business Problem\n\n### In an effort to reduce the frequency of vehicle collisions in a community, an algorithim or model must be developed in order to predict the severity of an accident given the current weather, road and visibility conditions. When conditions are bad, this model will alert drivers to remind them to be more careful ie (either slowing down their vehicles or taking other possible routes.)"
        },
        {
            "cell_type": "markdown",
            "metadata": {
                "scrolled": false
            },
            "source": "\n\n"
        }
    ],
    "metadata": {
        "kernelspec": {
            "display_name": "Python 3.6",
            "language": "python",
            "name": "python3"
        },
        "language_info": {
            "codemirror_mode": {
                "name": "ipython",
                "version": 3
            },
            "file_extension": ".py",
            "mimetype": "text/x-python",
            "name": "python",
            "nbconvert_exporter": "python",
            "pygments_lexer": "ipython3",
            "version": "3.6.9"
        }
    },
    "nbformat": 4,
    "nbformat_minor": 1
}